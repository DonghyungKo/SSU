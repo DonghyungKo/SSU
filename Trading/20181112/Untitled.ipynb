{
 "cells": [
  {
   "cell_type": "code",
   "execution_count": 1,
   "metadata": {},
   "outputs": [],
   "source": [
    "import sys"
   ]
  },
  {
   "cell_type": "code",
   "execution_count": 2,
   "metadata": {},
   "outputs": [
    {
     "data": {
      "text/plain": [
       "['',\n",
       " '/home/donghyungko/anaconda3/envs/trading_3.5/lib/python35.zip',\n",
       " '/home/donghyungko/anaconda3/envs/trading_3.5/lib/python3.5',\n",
       " '/home/donghyungko/anaconda3/envs/trading_3.5/lib/python3.5/plat-linux',\n",
       " '/home/donghyungko/anaconda3/envs/trading_3.5/lib/python3.5/lib-dynload',\n",
       " '/home/donghyungko/anaconda3/envs/trading_3.5/lib/python3.5/site-packages',\n",
       " '/home/donghyungko/anaconda3/envs/trading_3.5/lib/python3.5/site-packages/IPython/extensions',\n",
       " '/home/donghyungko/.ipython']"
      ]
     },
     "execution_count": 2,
     "metadata": {},
     "output_type": "execute_result"
    }
   ],
   "source": [
    "sys.path"
   ]
  },
  {
   "cell_type": "code",
   "execution_count": 3,
   "metadata": {},
   "outputs": [],
   "source": [
    "import zipline"
   ]
  },
  {
   "cell_type": "code",
   "execution_count": null,
   "metadata": {},
   "outputs": [],
   "source": []
  }
 ],
 "metadata": {
  "kernelspec": {
   "display_name": "trading3.5",
   "language": "python",
   "name": "trading3.5"
  },
  "language_info": {
   "codemirror_mode": {
    "name": "ipython",
    "version": 3
   },
   "file_extension": ".py",
   "mimetype": "text/x-python",
   "name": "python",
   "nbconvert_exporter": "python",
   "pygments_lexer": "ipython3",
   "version": "3.5.5"
  }
 },
 "nbformat": 4,
 "nbformat_minor": 2
}
