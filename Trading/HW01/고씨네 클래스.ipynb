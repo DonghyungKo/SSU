{
 "cells": [
  {
   "cell_type": "code",
   "execution_count": 8,
   "metadata": {},
   "outputs": [],
   "source": [
    "from pandas import DataFrame\n",
    "import pandas as pd"
   ]
  },
  {
   "cell_type": "code",
   "execution_count": 1,
   "metadata": {},
   "outputs": [],
   "source": [
    "class KO_FAMILY(object):\n",
    "     \n",
    "    def __init__(self):\n",
    "        import pandas as pd\n",
    "        from pandas import DataFrame, Series\n",
    "        \n",
    "        print('고씨네 가족의 프로필입니다.')\n",
    "        print('프로필 정보를 새로 입력하거나 입력된 정보를 불러올 수 있습니다.')\n",
    "        \n",
    "        print('\\n프로필 입력은 new_record 함수를 이용하세요')\n",
    "        print('이름, 나이, 성별, 직업, 전화번호를 기록할 수 있습니다.')\n",
    "        \n",
    "        try:\n",
    "            self.info = pd.read_csv('KO_FAMILY_INFO.csv')\n",
    "        except:\n",
    "            self.info = DataFrame()\n",
    "    \n",
    "    \n",
    "    \n",
    "    '''\n",
    "    새로운 프로필 정보를 입력하는 함수입니다.\n",
    "    '''\n",
    "    def new_record(self, name, age, sex, job, phone_number):\n",
    "        \n",
    "        temp_df = DataFrame({'이름' :[str(name)],\n",
    "                             '나이' :[str(age)],\n",
    "                             '성별' :[str(sex)],\n",
    "                             '직업' :[str(job)],\n",
    "                             '전화번호' : [str(phone_number)]})\n",
    "        \n",
    "        self.info = pd.concat([self.info, temp_df], axis = 0, copy = False)\n",
    "    \n",
    "    '''\n",
    "    저장된 프로필의 정보를 찾는 내용입니다.\n",
    "    '''\n",
    "    def find_record(self, name):\n",
    "\n",
    "        loc = self.info[self.info['이름'] == name]\n",
    "        print(loc)\n",
    "        \n",
    "        \n",
    "    \n",
    "    '''\n",
    "    저장된 정보를 삭제하는 함수입니다.\n",
    "    '''\n",
    "    def delete_record(self, name):\n",
    "\n",
    "        loc = self.info[self.info['이름'] == name].index\n",
    "        print(loc)\n",
    "        self.info = self.info.drop(loc)\n",
    "        \n",
    "    \n",
    "    \n",
    "    '''\n",
    "    지금까지 입력한 프로필 정보를 csv 파일로 저장하는 함수입니다.\n",
    "    '''\n",
    "    def save(self):\n",
    "        \n",
    "        self.info.to_csv('KO_FAMILY_INFO.csv', index = False)\n",
    "    \n",
    "        \n",
    "        "
   ]
  },
  {
   "cell_type": "code",
   "execution_count": 26,
   "metadata": {},
   "outputs": [
    {
     "name": "stdout",
     "output_type": "stream",
     "text": [
      "고씨네 가족의 프로필입니다.\n",
      "프로필 정보를 새로 입력하거나 입력된 정보를 불러올 수 있습니다.\n",
      "\n",
      "프로필 입력은 new_record 함수를 이용하세요\n",
      "이름, 나이, 성별, 직업, 전화번호를 기록할 수 있습니다.\n"
     ]
    }
   ],
   "source": [
    "a = KO_FAMILY()"
   ]
  },
  {
   "cell_type": "code",
   "execution_count": 27,
   "metadata": {},
   "outputs": [
    {
     "data": {
      "text/html": [
       "<div>\n",
       "<style>\n",
       "    .dataframe thead tr:only-child th {\n",
       "        text-align: right;\n",
       "    }\n",
       "\n",
       "    .dataframe thead th {\n",
       "        text-align: left;\n",
       "    }\n",
       "\n",
       "    .dataframe tbody tr th {\n",
       "        vertical-align: top;\n",
       "    }\n",
       "</style>\n",
       "<table border=\"1\" class=\"dataframe\">\n",
       "  <thead>\n",
       "    <tr style=\"text-align: right;\">\n",
       "      <th></th>\n",
       "    </tr>\n",
       "  </thead>\n",
       "  <tbody>\n",
       "  </tbody>\n",
       "</table>\n",
       "</div>"
      ],
      "text/plain": [
       "Empty DataFrame\n",
       "Columns: []\n",
       "Index: []"
      ]
     },
     "execution_count": 27,
     "metadata": {},
     "output_type": "execute_result"
    }
   ],
   "source": [
    "a.info"
   ]
  },
  {
   "cell_type": "code",
   "execution_count": 22,
   "metadata": {},
   "outputs": [],
   "source": [
    "a.new_record('고동형', 23, '남', '대학생', '010-0000-0000')"
   ]
  },
  {
   "cell_type": "code",
   "execution_count": 23,
   "metadata": {},
   "outputs": [
    {
     "data": {
      "text/html": [
       "<div>\n",
       "<style>\n",
       "    .dataframe thead tr:only-child th {\n",
       "        text-align: right;\n",
       "    }\n",
       "\n",
       "    .dataframe thead th {\n",
       "        text-align: left;\n",
       "    }\n",
       "\n",
       "    .dataframe tbody tr th {\n",
       "        vertical-align: top;\n",
       "    }\n",
       "</style>\n",
       "<table border=\"1\" class=\"dataframe\">\n",
       "  <thead>\n",
       "    <tr style=\"text-align: right;\">\n",
       "      <th></th>\n",
       "      <th>나이</th>\n",
       "      <th>성별</th>\n",
       "      <th>이름</th>\n",
       "      <th>전화번호</th>\n",
       "      <th>직업</th>\n",
       "    </tr>\n",
       "  </thead>\n",
       "  <tbody>\n",
       "    <tr>\n",
       "      <th>0</th>\n",
       "      <td>23</td>\n",
       "      <td>남</td>\n",
       "      <td>고동형</td>\n",
       "      <td>010-0000-0000</td>\n",
       "      <td>대학생</td>\n",
       "    </tr>\n",
       "  </tbody>\n",
       "</table>\n",
       "</div>"
      ],
      "text/plain": [
       "   나이 성별   이름           전화번호   직업\n",
       "0  23  남  고동형  010-0000-0000  대학생"
      ]
     },
     "execution_count": 23,
     "metadata": {},
     "output_type": "execute_result"
    }
   ],
   "source": [
    "a.info"
   ]
  },
  {
   "cell_type": "code",
   "execution_count": 24,
   "metadata": {},
   "outputs": [
    {
     "name": "stdout",
     "output_type": "stream",
     "text": [
      "   나이 성별   이름           전화번호   직업\n",
      "0  23  남  고동형  010-0000-0000  대학생\n"
     ]
    }
   ],
   "source": [
    "a.find_record('고동형')"
   ]
  },
  {
   "cell_type": "code",
   "execution_count": 9,
   "metadata": {},
   "outputs": [
    {
     "name": "stdout",
     "output_type": "stream",
     "text": [
      "Int64Index([0], dtype='int64')\n"
     ]
    }
   ],
   "source": [
    "a.delete_record('고동형')"
   ]
  },
  {
   "cell_type": "code",
   "execution_count": 10,
   "metadata": {},
   "outputs": [
    {
     "data": {
      "text/html": [
       "<div>\n",
       "<style scoped>\n",
       "    .dataframe tbody tr th:only-of-type {\n",
       "        vertical-align: middle;\n",
       "    }\n",
       "\n",
       "    .dataframe tbody tr th {\n",
       "        vertical-align: top;\n",
       "    }\n",
       "\n",
       "    .dataframe thead th {\n",
       "        text-align: right;\n",
       "    }\n",
       "</style>\n",
       "<table border=\"1\" class=\"dataframe\">\n",
       "  <thead>\n",
       "    <tr style=\"text-align: right;\">\n",
       "      <th></th>\n",
       "      <th>이름</th>\n",
       "      <th>나이</th>\n",
       "      <th>성별</th>\n",
       "      <th>직업</th>\n",
       "      <th>전화번호</th>\n",
       "    </tr>\n",
       "  </thead>\n",
       "  <tbody>\n",
       "  </tbody>\n",
       "</table>\n",
       "</div>"
      ],
      "text/plain": [
       "Empty DataFrame\n",
       "Columns: [이름, 나이, 성별, 직업, 전화번호]\n",
       "Index: []"
      ]
     },
     "execution_count": 10,
     "metadata": {},
     "output_type": "execute_result"
    }
   ],
   "source": [
    "a.info"
   ]
  },
  {
   "cell_type": "code",
   "execution_count": 25,
   "metadata": {},
   "outputs": [],
   "source": [
    "a.save()"
   ]
  },
  {
   "cell_type": "code",
   "execution_count": null,
   "metadata": {},
   "outputs": [],
   "source": []
  }
 ],
 "metadata": {
  "kernelspec": {
   "display_name": "Python 3",
   "language": "python",
   "name": "python3"
  },
  "language_info": {
   "codemirror_mode": {
    "name": "ipython",
    "version": 3
   },
   "file_extension": ".py",
   "mimetype": "text/x-python",
   "name": "python",
   "nbconvert_exporter": "python",
   "pygments_lexer": "ipython3",
   "version": "3.6.4"
  }
 },
 "nbformat": 4,
 "nbformat_minor": 2
}
