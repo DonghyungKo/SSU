{
 "cells": [
  {
   "cell_type": "code",
   "execution_count": 1,
   "metadata": {},
   "outputs": [
    {
     "name": "stdout",
     "output_type": "stream",
     "text": [
      "                                   low         high         open        close  \\\n",
      "date                                                                            \n",
      "2018-02-05 17:48:00+00:00  7170.000000  7171.000000  7170.000000  7170.990234   \n",
      "2018-02-05 17:49:00+00:00  7131.990234  7171.000000  7170.990234  7131.990234   \n",
      "2018-02-05 17:50:00+00:00  7120.000000  7137.359863  7132.000000  7120.020020   \n",
      "2018-02-05 17:51:00+00:00  7113.000000  7121.000000  7120.040039  7113.000000   \n",
      "2018-02-05 17:52:00+00:00  7113.000000  7122.000000  7113.000000  7121.990234   \n",
      "\n",
      "                              volume  \n",
      "date                                  \n",
      "2018-02-05 17:48:00+00:00   3.425961  \n",
      "2018-02-05 17:49:00+00:00   5.209975  \n",
      "2018-02-05 17:50:00+00:00  14.767619  \n",
      "2018-02-05 17:51:00+00:00  18.237879  \n",
      "2018-02-05 17:52:00+00:00  22.768671  \n",
      "<class 'pandas.core.panel.Panel'>\n",
      "Dimensions: 1 (items) x 72277 (major_axis) x 5 (minor_axis)\n",
      "Items axis: BTC to BTC\n",
      "Major_axis axis: 2018-02-05 17:48:00+00:00 to 2018-03-27 22:24:00+00:00\n",
      "Minor_axis axis: low to volume\n"
     ]
    }
   ],
   "source": [
    "import pandas as pd\n",
    "from collections import OrderedDict\n",
    "import pytz\n",
    "\n",
    "data = OrderedDict()\n",
    "\n",
    "data['BTC'] = pd.read_csv(\"BTC-USD.csv\")\n",
    "\n",
    "data['BTC']['date'] = pd.to_datetime(data['BTC']['time'], unit = 's', utc = True)\n",
    "data['BTC'].set_index('date', inplace=True)\n",
    "data['BTC'].drop('time', axis=1, inplace=True)\n",
    "# 1분 단위 평균으로 바꿔주기 : 현재 거의 1분단위이지만 혹시 에러를 방지하기 위해서\n",
    "data['BTC'] = data['BTC'].resample(\"1min\").mean()\n",
    "data['BTC'].fillna(method='ffill', inplace=True)\n",
    "data['BTC'] = data['BTC'][[\"low\",\"high\",\"open\",\"close\",\"volume\"]]\n",
    "print(data['BTC'].head())\n",
    "\n",
    "panel = pd.Panel(data)\n",
    "panel.minor_axis = [\"low\",\"high\",\"open\",\"close\",\"volume\"]\n",
    "panel.major_axis = panel.major_axis.tz_convert(pytz.utc)\n",
    "print(panel)\n"
   ]
  },
  {
   "cell_type": "code",
   "execution_count": 2,
   "metadata": {},
   "outputs": [],
   "source": [
    "def initialize(context):\n",
    "    set_benchmark(symbol(\"BTC\"))\n",
    "    \n",
    "def handle_data(context, data):\n",
    "    \n",
    "    slowma = data.history(symbol(\"BTC\"), fields = 'price', bar_count = 50, frequency='1m').mean()\n",
    "    fastma = data.history(symbol(\"BTC\"), fields = 'price', bar_count = 10, frequency='1m').mean()\n",
    "    \n",
    "    if fastma < slowma:\n",
    "        if symbol(\"BTC\") not in get_open_orders():\n",
    "            order_target_percent(symbol(\"BTC\"), 0.04)\n",
    "    \n",
    "    if fastma > slowma:\n",
    "        if symbol(\"BTC\") not in get_open_orders():\n",
    "            order_target_percent(symbol(\"BTC\"), 0.96) \n",
    "    \n",
    "    record(BTC = data.current(symbol('BTC'), fields='price'))\n"
   ]
  },
  {
   "cell_type": "code",
   "execution_count": 3,
   "metadata": {},
   "outputs": [],
   "source": [
    "%load_ext zipline"
   ]
  },
  {
   "cell_type": "code",
   "execution_count": 4,
   "metadata": {},
   "outputs": [],
   "source": [
    "import pandas as pd\n",
    "from zipline.api import order, record, symbol, set_benchmark, order_target_percent, get_open_orders\n",
    "import zipline\n",
    "import matplotlib.pyplot as plt\n",
    "from datetime import datetime"
   ]
  },
  {
   "cell_type": "code",
   "execution_count": 5,
   "metadata": {},
   "outputs": [
    {
     "ename": "TypeError",
     "evalue": "Can't instantiate abstract class TwentyFourHR with abstract methods close_times, open_times",
     "output_type": "error",
     "traceback": [
      "\u001b[1;31m---------------------------------------------------------------------------\u001b[0m",
      "\u001b[1;31mTypeError\u001b[0m                                 Traceback (most recent call last)",
      "\u001b[1;32m<ipython-input-5-ccf9d90074e9>\u001b[0m in \u001b[0;36m<module>\u001b[1;34m()\u001b[0m\n\u001b[0;32m     10\u001b[0m                             \u001b[0minitialize\u001b[0m \u001b[1;33m=\u001b[0m \u001b[0minitialize\u001b[0m\u001b[1;33m,\u001b[0m\u001b[1;33m\u001b[0m\u001b[0m\n\u001b[0;32m     11\u001b[0m                              \u001b[1;31m# trading calendar 바꿔주기\u001b[0m\u001b[1;33m\u001b[0m\u001b[1;33m\u001b[0m\u001b[0m\n\u001b[1;32m---> 12\u001b[1;33m                             \u001b[0mtrading_calendar\u001b[0m \u001b[1;33m=\u001b[0m \u001b[0mTwentyFourHR\u001b[0m\u001b[1;33m(\u001b[0m\u001b[1;33m)\u001b[0m\u001b[1;33m,\u001b[0m\u001b[1;33m\u001b[0m\u001b[0m\n\u001b[0m\u001b[0;32m     13\u001b[0m                             \u001b[0mcapital_base\u001b[0m \u001b[1;33m=\u001b[0m \u001b[1;36m100000\u001b[0m\u001b[1;33m,\u001b[0m\u001b[1;33m\u001b[0m\u001b[0m\n\u001b[0;32m     14\u001b[0m                             \u001b[0mhandle_data\u001b[0m \u001b[1;33m=\u001b[0m \u001b[0mhandle_data\u001b[0m\u001b[1;33m,\u001b[0m\u001b[1;33m\u001b[0m\u001b[0m\n",
      "\u001b[1;31mTypeError\u001b[0m: Can't instantiate abstract class TwentyFourHR with abstract methods close_times, open_times"
     ]
    }
   ],
   "source": [
    "# C:\\Users\\slcf\\Anaconda3\\envs\\py35\\Lib\\site-packages\\zipline\\utils\n",
    "# C:\\Users\\slcf\\Anaconda3\\envs\\py35\\Lib\\site-packages\\trading_calendars\n",
    "# https://www.zipline.io/trading-calendars.html\n",
    "#https://pythonprogramming.net/custom-markets-trading-calendar-bitcoin-python-programming-for-finance/\n",
    "# 새롭게 정의하고, import\n",
    "\n",
    "#from zipline.utils import calendars\n",
    "from trading_calendars.exchange_calendar_twentyfourhr import TwentyFourHR\n",
    "\n",
    "perf = zipline.run_algorithm(start = datetime(2018, 3, 25,0,0,0,0, pytz.utc),\n",
    "                            end = datetime(2018, 3, 26, 0, 0, 0, 0, pytz.utc),\n",
    "                            initialize = initialize,\n",
    "                             # trading calendar 바꿔주기\n",
    "                            trading_calendar = TwentyFourHR(),\n",
    "                            capital_base = 100000,\n",
    "                            handle_data = handle_data,\n",
    "                            data_frequency = 'minute',\n",
    "                            data = panel)"
   ]
  },
  {
   "cell_type": "code",
   "execution_count": null,
   "metadata": {},
   "outputs": [],
   "source": [
    "import matplotlib.pyplot as plt\n",
    "from matplotlib import style\n",
    "\n",
    "style.use(\"ggplot\")\n",
    "\n",
    "perf.portfolio_value.pct_change().fillna(0).add(1).cumprod().sub(1).plot(label='portfolio')\n",
    "perf.BTC.pct_change().fillna(0).add(1).cumprod().sub(1).plot(label='benchmark')\n",
    "plt.legend(loc=2)\n",
    "\n",
    "plt.show()"
   ]
  },
  {
   "cell_type": "code",
   "execution_count": null,
   "metadata": {},
   "outputs": [],
   "source": []
  }
 ],
 "metadata": {
  "kernelspec": {
   "display_name": "trading3.5",
   "language": "python",
   "name": "trading3.5"
  },
  "language_info": {
   "codemirror_mode": {
    "name": "ipython",
    "version": 3
   },
   "file_extension": ".py",
   "mimetype": "text/x-python",
   "name": "python",
   "nbconvert_exporter": "python",
   "pygments_lexer": "ipython3",
   "version": "3.5.5"
  }
 },
 "nbformat": 4,
 "nbformat_minor": 2
}
