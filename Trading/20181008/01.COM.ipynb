{
 "cells": [
  {
   "cell_type": "markdown",
   "metadata": {},
   "source": [
    "# COM (Component Object Model)"
   ]
  },
  {
   "cell_type": "code",
   "execution_count": 9,
   "metadata": {},
   "outputs": [],
   "source": [
    "import win32com.client"
   ]
  },
  {
   "cell_type": "code",
   "execution_count": 10,
   "metadata": {},
   "outputs": [],
   "source": [
    "explorer = win32com.client.Dispatch('InternetExplorer.Application')\n",
    "explorer.Visible = True"
   ]
  },
  {
   "cell_type": "code",
   "execution_count": 11,
   "metadata": {},
   "outputs": [],
   "source": [
    "excel = win32com.client.Dispatch('Excel.Application')\n",
    "excel.Visible = True"
   ]
  },
  {
   "cell_type": "code",
   "execution_count": 12,
   "metadata": {},
   "outputs": [],
   "source": [
    "wb = excel.Workbooks.Add()\n",
    "ws = wb.Worksheets('Sheet1')\n",
    "ws.Cells(1,1).Value = 'Hello World'"
   ]
  },
  {
   "cell_type": "code",
   "execution_count": 13,
   "metadata": {},
   "outputs": [],
   "source": [
    "wb.SaveAs('git-project/SSU/Trading/20181008/test1.xls')\n",
    "excel.Quit()"
   ]
  },
  {
   "cell_type": "code",
   "execution_count": 14,
   "metadata": {},
   "outputs": [
    {
     "name": "stdout",
     "output_type": "stream",
     "text": [
      "Hello World\n"
     ]
    }
   ],
   "source": [
    "import win32com.client\n",
    "excel = win32com.client.Dispatch(\"Excel.Application\")\n",
    "excel.Visible = True\n",
    "wb = excel.Workbooks.Open('git-project/SSU/Trading/20181008/test1.xls')\n",
    "ws = wb.ActiveSheet\n",
    "print(ws.Cells(1,1).Value)\n",
    "excel.Quit()"
   ]
  },
  {
   "cell_type": "code",
   "execution_count": 3,
   "metadata": {},
   "outputs": [],
   "source": [
    "import urllib.request\n",
    "import json"
   ]
  },
  {
   "cell_type": "code",
   "execution_count": 7,
   "metadata": {},
   "outputs": [],
   "source": [
    "urlTicker = urllib.request.urlopen('https://api.bithumb.com/public/ticker/BTC')\n",
    "\n",
    "readTicker = urlTicker.read()\n",
    "\n",
    "dict_BTC = json.loads(readTicker)"
   ]
  },
  {
   "cell_type": "code",
   "execution_count": 14,
   "metadata": {},
   "outputs": [],
   "source": [
    "from pandas import DataFrame\n",
    "import pandas as pd"
   ]
  },
  {
   "cell_type": "code",
   "execution_count": 21,
   "metadata": {},
   "outputs": [],
   "source": [
    "df_transaction_history = DataFrame()\n",
    "\n",
    "currency_ls = ['BTC', 'ETH']\n",
    "\n",
    "for i, currency in enumerate(currency_ls):\n",
    "    urlTicker = urllib.request.urlopen('https://api.bithumb.com/public/transaction_history/%s?count=100'%currency)\n",
    "    readTicker = urlTicker.read()\n",
    "    dict_ = json.loads(readTicker)\n",
    "    \n",
    "    temp_df = DataFrame(dict_['data'])\n",
    "    temp_df.to_csv('%s_transaction_history.csv'%currency, index = False)\n",
    "    "
   ]
  },
  {
   "cell_type": "code",
   "execution_count": null,
   "metadata": {},
   "outputs": [],
   "source": []
  }
 ],
 "metadata": {
  "kernelspec": {
   "display_name": "Python 3",
   "language": "python",
   "name": "python3"
  },
  "language_info": {
   "codemirror_mode": {
    "name": "ipython",
    "version": 3
   },
   "file_extension": ".py",
   "mimetype": "text/x-python",
   "name": "python",
   "nbconvert_exporter": "python",
   "pygments_lexer": "ipython3",
   "version": "3.6.5"
  }
 },
 "nbformat": 4,
 "nbformat_minor": 2
}
