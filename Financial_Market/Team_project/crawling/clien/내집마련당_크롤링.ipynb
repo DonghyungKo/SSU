{
 "cells": [
  {
   "cell_type": "code",
   "execution_count": 15,
   "metadata": {},
   "outputs": [],
   "source": [
    "from selenium import webdriver\n",
    "from bs4 import BeautifulSoup\n",
    "import pandas as pd"
   ]
  },
  {
   "cell_type": "code",
   "execution_count": 16,
   "metadata": {},
   "outputs": [],
   "source": [
    "path = \"D:\\chromedriver.exe\"\n",
    "driver = webdriver.Chrome(path)\n",
    "driver.get(\"https://www.clien.net/service/board/cm_havehome\")"
   ]
  },
  {
   "cell_type": "code",
   "execution_count": 17,
   "metadata": {},
   "outputs": [],
   "source": [
    "def crawl_title_and_date(dict_title_and_date):\n",
    "    \n",
    "    # 게시글 제목과 날짜를 크롤링한다\n",
    "    try:\n",
    "        # 제목 크롤링\n",
    "        title = driver.find_element_by_css_selector('#div_content > div.post_title.symph_row > h3 > span:nth-child(2)').text\n",
    "        dict_title_and_date['title'].append(title)\n",
    "        \n",
    "        date = driver.find_element_by_css_selector('#div_content > div.post_view > div.post_author > span:nth-child(1)').text[:10]\n",
    "        dict_title_and_date['date'].append(date)\n",
    "        \n",
    "    # 크롤링이 안되면 뒤로 돌아간다.\n",
    "    except:\n",
    "        driver.back()\n",
    "        pass\n",
    "    \n",
    "    return dict_title_and_date\n"
   ]
  },
  {
   "cell_type": "code",
   "execution_count": 18,
   "metadata": {},
   "outputs": [],
   "source": [
    "def crawl_text(text_ls, datgle_ls):\n",
    "    # 게시글에 들어온 다음, 크롤링을 진행한다\n",
    "    try:\n",
    "        # 게시글 크롤링\n",
    "        txt = driver.find_element_by_css_selector('#div_content > div.post_view > div.post_content').text.replace('\\n', ' ')\n",
    "        text_ls.append(txt)\n",
    "\n",
    "        temp_datgle_list = [x.text.replace('\\n', '') for x in driver.find_elements_by_class_name('comment_view') if not x.text == '']\n",
    "        \n",
    "        if temp_datgle_list:\n",
    "            datgle_ls += temp_datgle_list\n",
    "\n",
    "    # 크롤링이 안되면 뒤로 돌아간다.\n",
    "    except:\n",
    "        driver.back()\n",
    "        pass\n",
    "    \n",
    "    \n",
    "    return text_ls, datgle_ls\n",
    "    \n"
   ]
  },
  {
   "cell_type": "code",
   "execution_count": 43,
   "metadata": {},
   "outputs": [],
   "source": [
    "def crawl_one_page(text_ls, datgle_ls, dict_title_and_date):\n",
    "    import time\n",
    "    time.sleep(1)\n",
    "    \n",
    "    # 개별 게시글에 접근\n",
    "    for i in range(8,40):\n",
    "        try:\n",
    "            # 게시글에 접근\n",
    "            driver.find_element_by_css_selector('#div_content > div:nth-child(%s) > div.list_title > a.list_subject > span:nth-child(2)'%(i)).click()\n",
    "            \n",
    "            time.sleep(0.5)\n",
    "            \n",
    "            # 게시글과 댓글 크롤링\n",
    "            text_ls, datgle_ls = crawl_text(text_ls, datgle_ls)\n",
    "            dict_title_and_date = crawl_title_and_date(dict_title_and_date)\n",
    "            \n",
    "            if not driver.find_element_by_css_selector('#div_content > div.board_head > div.board_name > h2 > a') == '내집마련당':\n",
    "                driver.back()\n",
    "            \n",
    "        except : \n",
    "            pass\n",
    "        \n",
    "    return text_ls, datgle_ls, dict_title_and_date"
   ]
  },
  {
   "cell_type": "code",
   "execution_count": 41,
   "metadata": {},
   "outputs": [],
   "source": [
    "def crawl_multiple_pages(start_page, end_page):\n",
    "    import time \n",
    "    \n",
    "    text_ls = []\n",
    "    datgle_ls = []\n",
    "    dict_title_and_date = {'title' : [],\n",
    "                           'date' : []}\n",
    "    \n",
    "    try:   driver.switch_to_frame('cafe_main')\n",
    "    except:   pass\n",
    "\n",
    "    for k in range(start_page+1, end_page+1):\n",
    "        \n",
    "        # 게시글과 댓글 크롤링\n",
    "        text_ls, datgle_ls, dict_title_and_date_title = crawl_one_page(text_ls, datgle_ls, dict_title_and_date)\n",
    "        \n",
    "        if not k%10 == 1:\n",
    "            \n",
    "            # 페이지를 이동한다\n",
    "            try:\n",
    "                driver.find_element_by_css_selector('#pagingActiveId_%s'%(k)).click()\n",
    "                time.sleep(5)\n",
    "            #안되면 그만한다\n",
    "            except:\n",
    "                return text_ls, datgle_ls, dict_title_and_date\n",
    "            \n",
    "        elif k%10 == 1:\n",
    "            \n",
    "            #다음 장으로 넘어간다\n",
    "            try:\n",
    "                driver.find_element_by_css_selector('#div_content > div.list_button_area > div.board-pagination > div > a.board-nav-next').click()\n",
    "                time.sleep(5)\n",
    "            except:\n",
    "                return text_ls, datgle_ls, dict_title_and_date\n",
    "    \n",
    "    return text_ls, datgle_ls, dict_title_and_date"
   ]
  },
  {
   "cell_type": "code",
   "execution_count": 42,
   "metadata": {},
   "outputs": [
    {
     "name": "stderr",
     "output_type": "stream",
     "text": [
      "C:\\Users\\Dong\\AppData\\Local\\Continuum\\anaconda3\\lib\\site-packages\\ipykernel_launcher.py:9: DeprecationWarning: use driver.switch_to.frame instead\n",
      "  if __name__ == '__main__':\n"
     ]
    }
   ],
   "source": [
    "text_ls, datgle_ls, dict_title_and_date = crawl_multiple_pages(151, 300)\n",
    "\n",
    "total_ls = text_ls + datgle_ls\n",
    "total_df = pd.DataFrame(total_ls,\n",
    "                        columns = ['A'])\n",
    "\n",
    "total_df.to_csv('Clien_myhome_text_and_datgle_%s.csv'%(len(total_df)),index = False)"
   ]
  },
  {
   "cell_type": "code",
   "execution_count": 44,
   "metadata": {},
   "outputs": [],
   "source": [
    "df_title_and_date = pd.DataFrame(dict_title_and_date)\n",
    "\n",
    "try:\n",
    "    df_title_and_date['text'] = text_ls\n",
    "except:\n",
    "    pass\n",
    "\n",
    "df_title_and_date.to_csv('Clien_myhome_title_and_date_%s.csv'%(len(df_title_and_date)),index = False)"
   ]
  },
  {
   "cell_type": "code",
   "execution_count": 45,
   "metadata": {},
   "outputs": [
    {
     "data": {
      "text/html": [
       "<div>\n",
       "<style>\n",
       "    .dataframe thead tr:only-child th {\n",
       "        text-align: right;\n",
       "    }\n",
       "\n",
       "    .dataframe thead th {\n",
       "        text-align: left;\n",
       "    }\n",
       "\n",
       "    .dataframe tbody tr th {\n",
       "        vertical-align: top;\n",
       "    }\n",
       "</style>\n",
       "<table border=\"1\" class=\"dataframe\">\n",
       "  <thead>\n",
       "    <tr style=\"text-align: right;\">\n",
       "      <th></th>\n",
       "      <th>A</th>\n",
       "    </tr>\n",
       "  </thead>\n",
       "  <tbody>\n",
       "    <tr>\n",
       "      <th>0</th>\n",
       "      <td>안녕하세요.  7월중에 이사를 가야하는데 들어오실분이 8월에 올수있다는 애매한 상황...</td>\n",
       "    </tr>\n",
       "    <tr>\n",
       "      <th>1</th>\n",
       "      <td>안녕하세요?  부동산 투자에 대해서 감을 잡으려고 질문 좀 드리겠습니다.  4층 또...</td>\n",
       "    </tr>\n",
       "    <tr>\n",
       "      <th>2</th>\n",
       "      <td>최근에 청약 당첨되어 계약 완료한 상태입니다. 주택청약을 해지해야 하는 것으로 알고...</td>\n",
       "    </tr>\n",
       "    <tr>\n",
       "      <th>3</th>\n",
       "      <td>부동산114에 회원님이 문의한 내용을 바탕으로 만든 자료입니다.  참고하시기 바랍니...</td>\n",
       "    </tr>\n",
       "    <tr>\n",
       "      <th>4</th>\n",
       "      <td>내년 4월말 전세 만기가 됩니다. 저는 다른 아파트 신규분양권을 매입했고, 입주기간...</td>\n",
       "    </tr>\n",
       "  </tbody>\n",
       "</table>\n",
       "</div>"
      ],
      "text/plain": [
       "                                                   A\n",
       "0  안녕하세요.  7월중에 이사를 가야하는데 들어오실분이 8월에 올수있다는 애매한 상황...\n",
       "1  안녕하세요?  부동산 투자에 대해서 감을 잡으려고 질문 좀 드리겠습니다.  4층 또...\n",
       "2  최근에 청약 당첨되어 계약 완료한 상태입니다. 주택청약을 해지해야 하는 것으로 알고...\n",
       "3  부동산114에 회원님이 문의한 내용을 바탕으로 만든 자료입니다.  참고하시기 바랍니...\n",
       "4  내년 4월말 전세 만기가 됩니다. 저는 다른 아파트 신규분양권을 매입했고, 입주기간..."
      ]
     },
     "execution_count": 45,
     "metadata": {},
     "output_type": "execute_result"
    }
   ],
   "source": [
    "total_df.head()"
   ]
  },
  {
   "cell_type": "code",
   "execution_count": 46,
   "metadata": {},
   "outputs": [
    {
     "data": {
      "text/plain": [
       "11176"
      ]
     },
     "execution_count": 46,
     "metadata": {},
     "output_type": "execute_result"
    }
   ],
   "source": [
    "len(total_df)"
   ]
  }
 ],
 "metadata": {
  "kernelspec": {
   "display_name": "Python 3",
   "language": "python",
   "name": "python3"
  },
  "language_info": {
   "codemirror_mode": {
    "name": "ipython",
    "version": 3
   },
   "file_extension": ".py",
   "mimetype": "text/x-python",
   "name": "python",
   "nbconvert_exporter": "python",
   "pygments_lexer": "ipython3",
   "version": "3.6.4"
  }
 },
 "nbformat": 4,
 "nbformat_minor": 2
}
