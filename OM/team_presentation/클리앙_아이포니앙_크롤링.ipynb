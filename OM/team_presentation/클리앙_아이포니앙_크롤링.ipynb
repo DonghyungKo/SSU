{
 "cells": [
  {
   "cell_type": "code",
   "execution_count": 1,
   "metadata": {},
   "outputs": [],
   "source": [
    "from selenium import webdriver\n",
    "from bs4 import BeautifulSoup\n",
    "import pandas as pd"
   ]
  },
  {
   "cell_type": "code",
   "execution_count": 2,
   "metadata": {},
   "outputs": [],
   "source": [
    "path = \"D:\\chromedriver.exe\"\n",
    "driver = webdriver.Chrome(path)\n",
    "driver.get(\"https://www.clien.net/service/board/cm_iphonien\")"
   ]
  },
  {
   "cell_type": "code",
   "execution_count": 3,
   "metadata": {},
   "outputs": [],
   "source": [
    "def crawl_text(text_ls, datgle_ls):\n",
    "    # 게시글에 들어온 다음, 크롤링을 진행한다\n",
    "    try:\n",
    "        # 게시글 크롤링\n",
    "        txt = driver.find_element_by_css_selector('#div_content > div.post_view > div.post_content').text.replace('\\n', ' ')\n",
    "        text_ls.append(txt)\n",
    "\n",
    "        temp_datgle_list = [x.text.replace('\\n', '') for x in driver.find_elements_by_class_name('comment_view') if not x.text == '']\n",
    "        \n",
    "        if temp_datgle_list:\n",
    "            datgle_ls += temp_datgle_list\n",
    "\n",
    "        \n",
    "        drive.back()\n",
    "\n",
    "    # 크롤링이 안되면 뒤로 돌아간다.\n",
    "    except:\n",
    "        driver.back()\n",
    "        pass\n",
    "    \n",
    "    \n",
    "    return text_ls, datgle_ls\n",
    "    \n"
   ]
  },
  {
   "cell_type": "code",
   "execution_count": 4,
   "metadata": {},
   "outputs": [],
   "source": [
    "def crawl_one_page(text_ls, datgle_ls):\n",
    "    import time\n",
    "    time.sleep(1)\n",
    "    \n",
    "    # 개별 게시글에 접근\n",
    "    for i in range(11,41):\n",
    "        try:\n",
    "            # 게시글에 접근\n",
    "            driver.find_element_by_css_selector('#div_content > div:nth-child(%s) > div.list_title > a.list_subject > span:nth-child(2)'%(i)).click()\n",
    "\n",
    "            # 게시글과 댓글 크롤링\n",
    "            text_ls, datgle_ls = crawl_text(text_ls, datgle_ls)\n",
    "\n",
    "        except : \n",
    "            pass\n",
    "        \n",
    "    return text_ls, datgle_ls"
   ]
  },
  {
   "cell_type": "code",
   "execution_count": 5,
   "metadata": {},
   "outputs": [],
   "source": [
    "def crawl_multiple_pages(n_page):\n",
    "    import time \n",
    "    \n",
    "    text_ls = []\n",
    "    datgle_ls = []\n",
    "    \n",
    "    try:   driver.switch_to_frame('cafe_main')\n",
    "    except:   pass\n",
    "\n",
    "    for k in range(2, n_page+1):\n",
    "        \n",
    "        # 게시글과 댓글 크롤링\n",
    "        text_ls,datgle_ls = crawl_one_page(text_ls, datgle_ls)\n",
    "        \n",
    "        if not k%10 == 1:\n",
    "            \n",
    "            # 페이지를 이동한다\n",
    "            try:\n",
    "                driver.find_element_by_css_selector('#pagingActiveId_%s'%(k)).click()\n",
    "\n",
    "            #안되면 그만한다\n",
    "            except:\n",
    "                return text_ls, datgle_ls\n",
    "            \n",
    "        elif k%10 == 1:\n",
    "            \n",
    "            #다음 장으로 넘어간다\n",
    "            try:\n",
    "                driver.find_element_by_css_selector('#div_content > div.list_button_area > div.board-pagination > div > a.board-nav-next').click()\n",
    "            except:\n",
    "                return text_ls, datgle_ls\n",
    "    \n",
    "    return text_ls, datgle_ls"
   ]
  },
  {
   "cell_type": "code",
   "execution_count": 6,
   "metadata": {},
   "outputs": [
    {
     "name": "stderr",
     "output_type": "stream",
     "text": [
      "C:\\Users\\Dong\\AppData\\Local\\Continuum\\anaconda3\\lib\\site-packages\\ipykernel_launcher.py:7: DeprecationWarning: use driver.switch_to.frame instead\n",
      "  import sys\n"
     ]
    }
   ],
   "source": [
    "text_ls, datgle_ls = crawl_multiple_pages(50)\n",
    "\n",
    "total_ls = text_ls + datgle_ls\n",
    "total_df = pd.DataFrame(total_ls,\n",
    "                        columns = ['A'])\n",
    "\n",
    "total_df.to_csv('Clien_IPhone_%s.csv'%(len(total_df)),index = False)"
   ]
  },
  {
   "cell_type": "code",
   "execution_count": 7,
   "metadata": {},
   "outputs": [
    {
     "data": {
      "text/html": [
       "<div>\n",
       "<style>\n",
       "    .dataframe thead tr:only-child th {\n",
       "        text-align: right;\n",
       "    }\n",
       "\n",
       "    .dataframe thead th {\n",
       "        text-align: left;\n",
       "    }\n",
       "\n",
       "    .dataframe tbody tr th {\n",
       "        vertical-align: top;\n",
       "    }\n",
       "</style>\n",
       "<table border=\"1\" class=\"dataframe\">\n",
       "  <thead>\n",
       "    <tr style=\"text-align: right;\">\n",
       "      <th></th>\n",
       "      <th>A</th>\n",
       "    </tr>\n",
       "  </thead>\n",
       "  <tbody>\n",
       "    <tr>\n",
       "      <th>0</th>\n",
       "      <td>새로운 이모티콘 되네요   업뎃하세요</td>\n",
       "    </tr>\n",
       "    <tr>\n",
       "      <th>1</th>\n",
       "      <td>2월초부터 텐 사용중인데요. 화면 밝기 어느정도로 해 놓으시는 지 궁금합니다. 저는...</td>\n",
       "    </tr>\n",
       "    <tr>\n",
       "      <th>2</th>\n",
       "      <td>궁금한게 있는데요  애플케어플러스를 할부형으로 월 구매를 하고  핸드폰 파손으로 리...</td>\n",
       "    </tr>\n",
       "    <tr>\n",
       "      <th>3</th>\n",
       "      <td>원래 iPad만 지원하던 게임이었지만 방금 아이폰도 지원하도록 유니버셜 게임으로 릴...</td>\n",
       "    </tr>\n",
       "    <tr>\n",
       "      <th>4</th>\n",
       "      <td>애플케어플러스 관련해서 미국공홈에 전화를해야하는데 제가영어가미숙해 할수가없습니다.....</td>\n",
       "    </tr>\n",
       "  </tbody>\n",
       "</table>\n",
       "</div>"
      ],
      "text/plain": [
       "                                                   A\n",
       "0                               새로운 이모티콘 되네요   업뎃하세요\n",
       "1  2월초부터 텐 사용중인데요. 화면 밝기 어느정도로 해 놓으시는 지 궁금합니다. 저는...\n",
       "2  궁금한게 있는데요  애플케어플러스를 할부형으로 월 구매를 하고  핸드폰 파손으로 리...\n",
       "3  원래 iPad만 지원하던 게임이었지만 방금 아이폰도 지원하도록 유니버셜 게임으로 릴...\n",
       "4  애플케어플러스 관련해서 미국공홈에 전화를해야하는데 제가영어가미숙해 할수가없습니다....."
      ]
     },
     "execution_count": 7,
     "metadata": {},
     "output_type": "execute_result"
    }
   ],
   "source": [
    "total_df.head()"
   ]
  },
  {
   "cell_type": "code",
   "execution_count": 19,
   "metadata": {},
   "outputs": [
    {
     "data": {
      "text/plain": [
       "10264"
      ]
     },
     "execution_count": 19,
     "metadata": {},
     "output_type": "execute_result"
    }
   ],
   "source": [
    "len(total_df)"
   ]
  },
  {
   "cell_type": "code",
   "execution_count": null,
   "metadata": {},
   "outputs": [],
   "source": []
  }
 ],
 "metadata": {
  "kernelspec": {
   "display_name": "Python 3",
   "language": "python",
   "name": "python3"
  },
  "language_info": {
   "codemirror_mode": {
    "name": "ipython",
    "version": 3
   },
   "file_extension": ".py",
   "mimetype": "text/x-python",
   "name": "python",
   "nbconvert_exporter": "python",
   "pygments_lexer": "ipython3",
   "version": "3.6.4"
  }
 },
 "nbformat": 4,
 "nbformat_minor": 2
}
