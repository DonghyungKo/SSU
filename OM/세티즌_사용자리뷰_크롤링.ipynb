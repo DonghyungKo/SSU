{
 "cells": [
  {
   "cell_type": "code",
   "execution_count": 1,
   "metadata": {},
   "outputs": [],
   "source": [
    "from selenium import webdriver\n",
    "from bs4 import BeautifulSoup\n",
    "import pandas as pd"
   ]
  },
  {
   "cell_type": "code",
   "execution_count": 2,
   "metadata": {},
   "outputs": [],
   "source": [
    "def crawl_text(text_ls):\n",
    "    \n",
    "    # 한 페이지당 게시물 10개\n",
    "    for i in range(1,11):\n",
    "        try:\n",
    "            driver.find_element_by_css_selector('body > div:nth-child(15) > div:nth-child(2) > div:nth-child(3) > div:nth-child(%s) > div:nth-child(2) > div.board_title2.p17.b > a > span'%(i)).click()\n",
    "            \n",
    "            text = ' '.join([x.text for x in driver.find_elements_by_css_selector('p') if not x.text == ''])\n",
    "            text_ls.append(text)\n",
    "        \n",
    "        except: pass\n",
    "        driver.back()\n",
    "\n",
    "    return text_ls"
   ]
  },
  {
   "cell_type": "code",
   "execution_count": 3,
   "metadata": {},
   "outputs": [],
   "source": [
    "def crawl_review(n_page):\n",
    "    \n",
    "    text_ls = []\n",
    "\n",
    "    for cnt in range(n_page):\n",
    "\n",
    "        if cnt == 0 :\n",
    "            for i in range(2, 12):\n",
    "                text_ls = crawl_text(text_ls)\n",
    "\n",
    "                #페이지 이동 \n",
    "                try:\n",
    "                    driver.find_element_by_css_selector('#page_no > div > span:nth-child(%s)'%i).click()\n",
    "                except:\n",
    "                    return text_ls\n",
    "\n",
    "        else:\n",
    "            for i in range(3, 13):\n",
    "                text_ls = crawl_text(text_ls)\n",
    "\n",
    "                # 페이지 이동\n",
    "                try:\n",
    "                    driver.find_element_by_css_selector('#page_no > div > span:nth-child(%s)'%i).click()\n",
    "                except:\n",
    "                    return text_ls\n",
    "\n",
    "    return text_ls\n",
    "\n",
    "    "
   ]
  },
  {
   "cell_type": "code",
   "execution_count": 4,
   "metadata": {},
   "outputs": [],
   "source": [
    "for key_word in ['Android','IPhone']:\n",
    "    \n",
    "    if key_word == 'Android':\n",
    "        path = \"D:\\chromedriver.exe\"\n",
    "        driver = webdriver.Chrome(path)\n",
    "        driver.get('https://community.cetizen.com/bbs.php?id=ureview&category=0201&os=2')\n",
    "    \n",
    "    elif key_word == 'IPhone':\n",
    "        path = \"D:\\chromedriver.exe\"\n",
    "        driver = webdriver.Chrome(path)\n",
    "        driver.get(\"https://community.cetizen.com/bbs.php?id=ureview&category=0201&os=5\")\n",
    "    \n",
    "    text_ls = crawl_review(2)\n",
    "    \n",
    "    text_df = pd.DataFrame(text_ls, columns = [key_word])\n",
    "    text_df.to_csv('cetizen_user_review_%s.csv'%(key_word))\n",
    "    \n",
    "    #driver.close()"
   ]
  },
  {
   "cell_type": "code",
   "execution_count": 50,
   "metadata": {},
   "outputs": [
    {
     "data": {
      "text/plain": [
       "'Galaxy S8 Coming soon...\\n\\n삼성은 물론 모바일 역사에 한 획을 그은 갤럭시 노트7의 폭발 이슈 이후 처음으로 출시되는 플래그쉽 스마트폰인 갤럭시S8의 공개가 얼마 남지 않았습니다. 이달 말 언팩 행사를 통해 공개될 예정인데요, 대중들은 갤럭시S8에 대한 기대와 우려로 가득 차 있습니다.\\n공개가 얼마 남지 않아서인지 다양한 루머들이 있는데요, 일단 홈 버튼 삭제와 지문 인식 버튼은 후면으로 옮겨지는 것은 거의 확정된 상태입니다. 그 외의 루머들을 간략하게 모아봤으니 함께 보도록 하겠습니다.\\n\\n \\n\\n▣ 3가지 색상\\n\\n갤럭시S8은 스카이 블랙, 오키드 그레이, 아크틱 실버 총 3가지 색상과 전면 디스플레이 부분은 모두 블랙으로 예상됩니다. \\n\\n\\n\\n▣ 빅스비 버튼\\n\\n유출된 갤럭시S8의 렌더링 이미지들을 보면 정면 왼쪽 볼륨 버튼 하단에 또 하나의 버튼이 있는데요, 바로 빅스비를 바로 불러올 수 있는 버튼으로 예상됩니다. 빅스비는 음성 인식 서비스인데요, 기존 S Voice보다 훨씬 더 뛰어난 성능으로 사용량이 많아져 전용 버튼까지 탑재한 것으로 보이는데요, 지금까지를 보면 음성 인식 기능을 얼마나 사용하게 될지는 지켜봐야겠습니다.\\n\\n\\n\\n▣ AKG 번들 이어폰\\n\\n갤럭시S8의 번들 이어폰으로 보이는 오디오 전문 업체인 AKG의 로고가 새겨진 이어폰도 유출되었습니다. \\n삼성은 얼마 전 오디오 음향 전문 업체인 하만카돈을 인수했는데요, AKG는 하만카돈의 계열사이며 이런 이유로 번들 이어폰이 제공되는 것으로 보입니다. 사실 그동안의 삼성 스마트폰에 번들로 제공되는 번들 이어폰은 상당히 아쉬웠는데요, AKG와 합작으로 제공된다면 성능에서 충분히 기대할 만 하겠습니다.\\n\\n\\n\\n▣ 배터리\\n\\n갤럭시S8에 탑재될 것으로 보이는 배터리도 유출되었습니다.\\n용량은 3,000mAh인데요, 삼성은 용량과 위의 유출 내용들보다는 겉으로 보이지 않는 이 배터리가 더 중요게 생각될 것입니다. 아무리 잘 만들고 훌륭한 기능들로 무장했다고 하더라도, 이 배터리가 또 폭발하게 되면 삼성은 모바일과 작별을 해야 할 정도로 크리티컬하기 때문에 더욱 안전에 신경을 썼을 텐데요, 꼭 이런 이유가 아닌 소비자의 안전도 고려해서 충분히 안전한 배터리가 탑재되어야 할 것입니다.\\n\\n\\n\\n\\n홈 버튼의 삭제와 지문 인식 센서의 위치 변화를 보니 왠지 갤럭시노트7에서 벗어나려는 느낌이 들었습니다. 그동안 삼성의 아이덴티티를 따라가는 디자인으로 출시한다면 갤럭시 노트7을 떠올리기 쉬워질 것이며, 또 터질지도 모른다는 이미지가 강제로 인식되어 외형에서 큰 변화를 줬다고도 볼 수 있을 것 같은데요, 이제 다음 주면 공개될 갤럭시S8은 어떤 반응을 불러올지 다양한 감정으로 기다려집니다.\\n출처\\n@evleaks\\ntechrum'"
      ]
     },
     "execution_count": 50,
     "metadata": {},
     "output_type": "execute_result"
    }
   ],
   "source": [
    "driver.find_element_by_css_selector('body > div:nth-child(15) > div:nth-child(3) > div:nth-child(5) > div > pre').text"
   ]
  },
  {
   "cell_type": "code",
   "execution_count": null,
   "metadata": {},
   "outputs": [],
   "source": []
  }
 ],
 "metadata": {
  "kernelspec": {
   "display_name": "Python 3",
   "language": "python",
   "name": "python3"
  },
  "language_info": {
   "codemirror_mode": {
    "name": "ipython",
    "version": 3
   },
   "file_extension": ".py",
   "mimetype": "text/x-python",
   "name": "python",
   "nbconvert_exporter": "python",
   "pygments_lexer": "ipython3",
   "version": "3.6.4"
  }
 },
 "nbformat": 4,
 "nbformat_minor": 2
}
