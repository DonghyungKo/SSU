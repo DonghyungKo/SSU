{
 "cells": [
  {
   "cell_type": "code",
   "execution_count": 1,
   "metadata": {},
   "outputs": [],
   "source": [
    "from selenium import webdriver\n",
    "from bs4 import BeautifulSoup\n",
    "import pandas as pd"
   ]
  },
  {
   "cell_type": "code",
   "execution_count": 4,
   "metadata": {},
   "outputs": [],
   "source": [
    "path = \"D:\\chromedriver.exe\"\n",
    "driver = webdriver.Chrome(path)\n",
    "driver.get(\"https://www.clien.net/service/board/cm_iphonien\")"
   ]
  },
  {
   "cell_type": "code",
   "execution_count": 14,
   "metadata": {},
   "outputs": [],
   "source": [
    "def crawl_text(text_ls, datgle_ls):\n",
    "    # 게시글에 들어온 다음, 크롤링을 진행한다\n",
    "    try:\n",
    "        # 게시글 크롤링\n",
    "        txt = driver.find_element_by_css_selector('#div_content > div.post_view > div.post_content').text.replace('\\n', ' ')\n",
    "        text_ls.append(txt)\n",
    "\n",
    "        temp_datgle_list = [x.text.replace('\\n', '') for x in driver.find_elements_by_class_name('comment_view') if not x.text == '']\n",
    "        \n",
    "        if temp_datgle_list:\n",
    "            datgle_ls += temp_datgle_list\n",
    "\n",
    "        \n",
    "        drive.back()\n",
    "\n",
    "    # 크롤링이 안되면 뒤로 돌아간다.\n",
    "    except:\n",
    "        driver.back()\n",
    "        pass\n",
    "    \n",
    "    \n",
    "    return text_ls, datgle_ls\n",
    "    \n"
   ]
  },
  {
   "cell_type": "code",
   "execution_count": 15,
   "metadata": {},
   "outputs": [],
   "source": [
    "def crawl_one_page(text_ls, datgle_ls):\n",
    "    import time\n",
    "    time.sleep(1)\n",
    "    \n",
    "    # 개별 게시글에 접근\n",
    "    for i in range(11,41):\n",
    "        try:\n",
    "            # 게시글에 접근\n",
    "            driver.find_element_by_css_selector('#div_content > div:nth-child(%s) > div.list_title > a.list_subject > span:nth-child(2)'%(i)).click()\n",
    "\n",
    "            # 게시글과 댓글 크롤링\n",
    "            text_ls, datgle_ls = crawl_text(text_ls, datgle_ls)\n",
    "\n",
    "        except : \n",
    "            pass\n",
    "        \n",
    "    return text_ls, datgle_ls"
   ]
  },
  {
   "cell_type": "code",
   "execution_count": 16,
   "metadata": {},
   "outputs": [],
   "source": [
    "def crawl_multiple_pages(n_page):\n",
    "    import time \n",
    "    \n",
    "    text_ls = []\n",
    "    datgle_ls = []\n",
    "    \n",
    "    try:   driver.switch_to_frame('cafe_main')\n",
    "    except:   pass\n",
    "\n",
    "    for k in range(2, n_page+1):\n",
    "        \n",
    "        # 게시글과 댓글 크롤링\n",
    "        text_ls,datgle_ls = crawl_one_page(text_ls, datgle_ls)\n",
    "        \n",
    "        if not k%10 == 1:\n",
    "            \n",
    "            # 페이지를 이동한다\n",
    "            try:\n",
    "                driver.find_element_by_css_selector('#pagingActiveId_%s'%(k)).click()\n",
    "\n",
    "            #안되면 그만한다\n",
    "            except:\n",
    "                return text_ls, datgle_ls\n",
    "            \n",
    "        elif k%10 == 1:\n",
    "            \n",
    "            #다음 장으로 넘어간다\n",
    "            try:\n",
    "                driver.find_element_by_css_selector('#div_content > div.list_button_area > div.board-pagination > div > a.board-nav-next').click()\n",
    "            except:\n",
    "                return text_ls, datgle_ls\n",
    "    \n",
    "    return text_ls, datgle_ls"
   ]
  },
  {
   "cell_type": "code",
   "execution_count": 17,
   "metadata": {},
   "outputs": [
    {
     "name": "stderr",
     "output_type": "stream",
     "text": [
      "C:\\Users\\Dong\\AppData\\Local\\Continuum\\anaconda3\\lib\\site-packages\\ipykernel_launcher.py:7: DeprecationWarning: use driver.switch_to.frame instead\n",
      "  import sys\n"
     ]
    }
   ],
   "source": [
    "text_ls, datgle_ls = crawl_multiple_pages(50)\n",
    "\n",
    "total_ls = text_ls + datgle_ls\n",
    "total_df = pd.DataFrame(total_ls,\n",
    "                        columns = ['A'])\n",
    "\n",
    "total_df.to_csv('Clien_IPhone_%s.csv'%(len(total_df)),index = False)"
   ]
  },
  {
   "cell_type": "code",
   "execution_count": 20,
   "metadata": {},
   "outputs": [],
   "source": [
    "total_df.to_csv('Clien_IPhone_%s.csv'%(len(total_df)),index = False)"
   ]
  },
  {
   "cell_type": "code",
   "execution_count": 18,
   "metadata": {},
   "outputs": [
    {
     "data": {
      "text/html": [
       "<div>\n",
       "<style>\n",
       "    .dataframe thead tr:only-child th {\n",
       "        text-align: right;\n",
       "    }\n",
       "\n",
       "    .dataframe thead th {\n",
       "        text-align: left;\n",
       "    }\n",
       "\n",
       "    .dataframe tbody tr th {\n",
       "        vertical-align: top;\n",
       "    }\n",
       "</style>\n",
       "<table border=\"1\" class=\"dataframe\">\n",
       "  <thead>\n",
       "    <tr style=\"text-align: right;\">\n",
       "      <th></th>\n",
       "      <th>A</th>\n",
       "    </tr>\n",
       "  </thead>\n",
       "  <tbody>\n",
       "    <tr>\n",
       "      <th>0</th>\n",
       "      <td>가끔 어떤이유인지 사진과 같이 화면이 살짝 하단으로 내려오는데 이게 뭔지 모르겠습니...</td>\n",
       "    </tr>\n",
       "    <tr>\n",
       "      <th>1</th>\n",
       "      <td>배터리 스팩만 비교하면 Xr이 xs max 대비 맞장뜰것 같고... 변강쇠 8플 보...</td>\n",
       "    </tr>\n",
       "    <tr>\n",
       "      <th>2</th>\n",
       "      <td>아이폰7에서 X로 바꾼지 3주 정도 됐는데 다 만족스럽지만 각 사이트 로그인 할때 ...</td>\n",
       "    </tr>\n",
       "    <tr>\n",
       "      <th>3</th>\n",
       "      <td>자가개통할려고하니 본인명의 신용카드가없어서 개통이안되어서   대리점가서 해달라고했더...</td>\n",
       "    </tr>\n",
       "    <tr>\n",
       "      <th>4</th>\n",
       "      <td>그동안 미밴드3 한글화 기다리다가 한글화도 잘 되어 있고 액정도 더 큰 어메이즈핏빕...</td>\n",
       "    </tr>\n",
       "  </tbody>\n",
       "</table>\n",
       "</div>"
      ],
      "text/plain": [
       "                                                   A\n",
       "0  가끔 어떤이유인지 사진과 같이 화면이 살짝 하단으로 내려오는데 이게 뭔지 모르겠습니...\n",
       "1  배터리 스팩만 비교하면 Xr이 xs max 대비 맞장뜰것 같고... 변강쇠 8플 보...\n",
       "2  아이폰7에서 X로 바꾼지 3주 정도 됐는데 다 만족스럽지만 각 사이트 로그인 할때 ...\n",
       "3  자가개통할려고하니 본인명의 신용카드가없어서 개통이안되어서   대리점가서 해달라고했더...\n",
       "4  그동안 미밴드3 한글화 기다리다가 한글화도 잘 되어 있고 액정도 더 큰 어메이즈핏빕..."
      ]
     },
     "execution_count": 18,
     "metadata": {},
     "output_type": "execute_result"
    }
   ],
   "source": [
    "total_df.head()"
   ]
  },
  {
   "cell_type": "code",
   "execution_count": 19,
   "metadata": {},
   "outputs": [
    {
     "data": {
      "text/plain": [
       "10264"
      ]
     },
     "execution_count": 19,
     "metadata": {},
     "output_type": "execute_result"
    }
   ],
   "source": [
    "len(total_df)"
   ]
  },
  {
   "cell_type": "code",
   "execution_count": null,
   "metadata": {},
   "outputs": [],
   "source": []
  }
 ],
 "metadata": {
  "kernelspec": {
   "display_name": "Python 3",
   "language": "python",
   "name": "python3"
  },
  "language_info": {
   "codemirror_mode": {
    "name": "ipython",
    "version": 3
   },
   "file_extension": ".py",
   "mimetype": "text/x-python",
   "name": "python",
   "nbconvert_exporter": "python",
   "pygments_lexer": "ipython3",
   "version": "3.6.4"
  }
 },
 "nbformat": 4,
 "nbformat_minor": 2
}
