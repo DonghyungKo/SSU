{
 "cells": [
  {
   "cell_type": "code",
   "execution_count": 1,
   "metadata": {},
   "outputs": [],
   "source": [
    "import pandas as pd\n",
    "from pandas import DataFrame, Series\n",
    "from konlpy.tag import *\n",
    "import konlpy\n",
    "\n",
    "import soynlp\n",
    "from soynlp.word import WordExtractor"
   ]
  },
  {
   "cell_type": "code",
   "execution_count": 132,
   "metadata": {},
   "outputs": [],
   "source": [
    "raw = pd.read_csv('Data/Cetizen/cetizen_review_IPhone.csv', encoding = 'cp949')\n",
    "raw.drop('Unnamed: 0', axis = 1, inplace= True)"
   ]
  },
  {
   "cell_type": "code",
   "execution_count": 133,
   "metadata": {},
   "outputs": [
    {
     "data": {
      "text/html": [
       "<div>\n",
       "<style>\n",
       "    .dataframe thead tr:only-child th {\n",
       "        text-align: right;\n",
       "    }\n",
       "\n",
       "    .dataframe thead th {\n",
       "        text-align: left;\n",
       "    }\n",
       "\n",
       "    .dataframe tbody tr th {\n",
       "        vertical-align: top;\n",
       "    }\n",
       "</style>\n",
       "<table border=\"1\" class=\"dataframe\">\n",
       "  <thead>\n",
       "    <tr style=\"text-align: right;\">\n",
       "      <th></th>\n",
       "      <th>아이폰</th>\n",
       "    </tr>\n",
       "  </thead>\n",
       "  <tbody>\n",
       "    <tr>\n",
       "      <th>0</th>\n",
       "      <td>아이폰Xs / 아이폰Xs 맥스의 첫인상  아이폰Xs, 아이폰Xs 맥스 애플은 변화를...</td>\n",
       "    </tr>\n",
       "    <tr>\n",
       "      <th>1</th>\n",
       "      <td>iPhone Xs / iPhone Xs Max / iPhone Xr / Apple ...</td>\n",
       "    </tr>\n",
       "    <tr>\n",
       "      <th>2</th>\n",
       "      <td>iPhone Xs / iPhone Xs MAX  매년 애플 팬은 흥분과 기대를. 그...</td>\n",
       "    </tr>\n",
       "    <tr>\n",
       "      <th>3</th>\n",
       "      <td>다시 만나는 아이폰3GS  국내 스마트폰 시장이 급격하게 변화하고 발전할 수 있는 ...</td>\n",
       "    </tr>\n",
       "    <tr>\n",
       "      <th>4</th>\n",
       "      <td>iPhone 8 Product RED Unboxing  [(RED)에 대한 간단한 ...</td>\n",
       "    </tr>\n",
       "  </tbody>\n",
       "</table>\n",
       "</div>"
      ],
      "text/plain": [
       "                                                 아이폰\n",
       "0  아이폰Xs / 아이폰Xs 맥스의 첫인상  아이폰Xs, 아이폰Xs 맥스 애플은 변화를...\n",
       "1  iPhone Xs / iPhone Xs Max / iPhone Xr / Apple ...\n",
       "2  iPhone Xs / iPhone Xs MAX  매년 애플 팬은 흥분과 기대를. 그...\n",
       "3  다시 만나는 아이폰3GS  국내 스마트폰 시장이 급격하게 변화하고 발전할 수 있는 ...\n",
       "4  iPhone 8 Product RED Unboxing  [(RED)에 대한 간단한 ..."
      ]
     },
     "execution_count": 133,
     "metadata": {},
     "output_type": "execute_result"
    }
   ],
   "source": [
    "raw.head()"
   ]
  },
  {
   "cell_type": "code",
   "execution_count": 135,
   "metadata": {},
   "outputs": [],
   "source": [
    "review_list = [x.replace('/', '') for x in raw.iloc[:,0]]\n",
    "review_list = [x.replace(',', '') for x in review_list]\n",
    "review_list = [x.replace('!', '') for x in review_list]\n",
    "review_list = [x.replace('?', '') for x in review_list]\n",
    "review_list = [x.replace('.', '') for x in review_list]\n",
    "review_list = [x.replace('ㅠ', '') for x in review_list]\n",
    "review_list = [x.replace('ㅜ', '') for x in review_list]\n"
   ]
  },
  {
   "cell_type": "code",
   "execution_count": 147,
   "metadata": {},
   "outputs": [
    {
     "name": "stderr",
     "output_type": "stream",
     "text": [
      "C:\\Users\\Dong\\AppData\\Local\\Continuum\\anaconda3\\lib\\site-packages\\konlpy\\tag\\_okt.py:16: UserWarning: \"Twitter\" has changed to \"Okt\" since KoNLPy v0.4.5.\n",
      "  warn('\"Twitter\" has changed to \"Okt\" since KoNLPy v0.4.5.')\n"
     ]
    }
   ],
   "source": [
    "twit = Twitter()"
   ]
  },
  {
   "cell_type": "code",
   "execution_count": 148,
   "metadata": {},
   "outputs": [],
   "source": [
    "temp = twit.nouns(' '.join(review_list))\n",
    "temp_nouns = [x for x in temp if len(x) > 1]"
   ]
  },
  {
   "cell_type": "code",
   "execution_count": 149,
   "metadata": {},
   "outputs": [
    {
     "data": {
      "text/plain": [
       "20774"
      ]
     },
     "execution_count": 149,
     "metadata": {},
     "output_type": "execute_result"
    }
   ],
   "source": [
    "len(temp_nouns)"
   ]
  },
  {
   "cell_type": "code",
   "execution_count": 150,
   "metadata": {},
   "outputs": [],
   "source": [
    "from collections import Counter\n",
    "\n",
    "counter = Counter(temp_nouns)"
   ]
  },
  {
   "cell_type": "code",
   "execution_count": 151,
   "metadata": {},
   "outputs": [
    {
     "data": {
      "text/plain": [
       "[('아이폰', 1623),\n",
       " ('애플', 329),\n",
       " ('갤럭시', 314),\n",
       " ('카메라', 286),\n",
       " ('사진', 270),\n",
       " ('플러스', 261),\n",
       " ('사용', 255),\n",
       " ('출시', 244),\n",
       " ('노트', 200),\n",
       " ('때문', 185),\n",
       " ('스마트폰', 182),\n",
       " ('촬영', 176),\n",
       " ('시리즈', 167),\n",
       " ('비교', 164),\n",
       " ('확인', 154),\n",
       " ('인식', 149),\n",
       " ('사람', 147),\n",
       " ('디스플레이', 145),\n",
       " ('번인', 144),\n",
       " ('생각', 141)]"
      ]
     },
     "execution_count": 151,
     "metadata": {},
     "output_type": "execute_result"
    }
   ],
   "source": [
    "counter.most_common(20)"
   ]
  },
  {
   "cell_type": "code",
   "execution_count": 152,
   "metadata": {},
   "outputs": [
    {
     "ename": "NameError",
     "evalue": "name 'WordCloud' is not defined",
     "output_type": "error",
     "traceback": [
      "\u001b[1;31m---------------------------------------------------------------------------\u001b[0m",
      "\u001b[1;31mNameError\u001b[0m                                 Traceback (most recent call last)",
      "\u001b[1;32m<ipython-input-152-e1cefb8a9c7d>\u001b[0m in \u001b[0;36m<module>\u001b[1;34m()\u001b[0m\n\u001b[1;32m----> 1\u001b[1;33m \u001b[0mwc_constitution\u001b[0m \u001b[1;33m=\u001b[0m \u001b[0mWordCloud\u001b[0m\u001b[1;33m(\u001b[0m\u001b[0mmax_font_size\u001b[0m\u001b[1;33m=\u001b[0m \u001b[1;36m40\u001b[0m\u001b[1;33m)\u001b[0m\u001b[1;33m.\u001b[0m\u001b[0mgenerate\u001b[0m\u001b[1;33m(\u001b[0m\u001b[0mtemp_nouns\u001b[0m\u001b[1;33m)\u001b[0m\u001b[1;33m\u001b[0m\u001b[0m\n\u001b[0m",
      "\u001b[1;31mNameError\u001b[0m: name 'WordCloud' is not defined"
     ]
    }
   ],
   "source": [
    "wc_constitution = WordCloud(max_font_size= 40).generate(temp_nouns)"
   ]
  },
  {
   "cell_type": "code",
   "execution_count": null,
   "metadata": {},
   "outputs": [],
   "source": []
  }
 ],
 "metadata": {
  "kernelspec": {
   "display_name": "Python 3",
   "language": "python",
   "name": "python3"
  },
  "language_info": {
   "codemirror_mode": {
    "name": "ipython",
    "version": 3
   },
   "file_extension": ".py",
   "mimetype": "text/x-python",
   "name": "python",
   "nbconvert_exporter": "python",
   "pygments_lexer": "ipython3",
   "version": "3.6.4"
  }
 },
 "nbformat": 4,
 "nbformat_minor": 2
}
